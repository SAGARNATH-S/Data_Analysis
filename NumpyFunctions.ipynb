{
  "nbformat": 4,
  "nbformat_minor": 0,
  "metadata": {
    "colab": {
      "name": "NumpyFunctions.ipynb",
      "provenance": [],
      "authorship_tag": "ABX9TyPnL+6CfKN5na5ebiqbNa1j",
      "include_colab_link": true
    },
    "kernelspec": {
      "name": "python3",
      "display_name": "Python 3"
    }
  },
  "cells": [
    {
      "cell_type": "markdown",
      "metadata": {
        "id": "view-in-github",
        "colab_type": "text"
      },
      "source": [
        "<a href=\"https://colab.research.google.com/github/SAGARNATH-S/Data_Analysis/blob/master/NumpyFunctions.ipynb\" target=\"_parent\"><img src=\"https://colab.research.google.com/assets/colab-badge.svg\" alt=\"Open In Colab\"/></a>"
      ]
    },
    {
      "cell_type": "code",
      "metadata": {
        "id": "Cc_5rHGAkxpS",
        "colab_type": "code",
        "colab": {}
      },
      "source": [
        "import numpy as np "
      ],
      "execution_count": 4,
      "outputs": []
    },
    {
      "cell_type": "code",
      "metadata": {
        "id": "nn3W8_F3k_Lb",
        "colab_type": "code",
        "colab": {
          "base_uri": "https://localhost:8080/",
          "height": 202
        },
        "outputId": "f9797bd8-f106-467a-aa24-fca08175c813"
      },
      "source": [
        "a = np.array([[3,7,5],[8,4,3],[2,4,9]]) \n",
        "print(a) \n",
        "print (np.amin(a,1),\"\\n\")\n",
        "print (np.amin(a,0),\"\\n\")\n",
        "print (np.amax(a),\"\\n\")\n",
        "print (np.amax(a, axis = 0),\"\\n\")"
      ],
      "execution_count": 8,
      "outputs": [
        {
          "output_type": "stream",
          "text": [
            "[[3 7 5]\n",
            " [8 4 3]\n",
            " [2 4 9]]\n",
            "[3 3 2] \n",
            "\n",
            "[2 4 3] \n",
            "\n",
            "9 \n",
            "\n",
            "[8 7 9] \n",
            "\n"
          ],
          "name": "stdout"
        }
      ]
    }
  ]
}