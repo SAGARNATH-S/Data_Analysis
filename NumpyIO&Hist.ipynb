{
  "nbformat": 4,
  "nbformat_minor": 0,
  "metadata": {
    "colab": {
      "name": "NumpyIO&Hist.ipynb",
      "provenance": [],
      "authorship_tag": "ABX9TyP2p7Q6nWOyu0HsdFBB1tSX",
      "include_colab_link": true
    },
    "kernelspec": {
      "name": "python3",
      "display_name": "Python 3"
    }
  },
  "cells": [
    {
      "cell_type": "markdown",
      "metadata": {
        "id": "view-in-github",
        "colab_type": "text"
      },
      "source": [
        "<a href=\"https://colab.research.google.com/github/SAGARNATH-S/Data_Analysis/blob/master/NumpyIO%26Hist.ipynb\" target=\"_parent\"><img src=\"https://colab.research.google.com/assets/colab-badge.svg\" alt=\"Open In Colab\"/></a>"
      ]
    },
    {
      "cell_type": "code",
      "metadata": {
        "id": "n8fER2I2r5FF",
        "colab_type": "code",
        "colab": {}
      },
      "source": [
        "import numpy as np "
      ],
      "execution_count": 1,
      "outputs": []
    },
    {
      "cell_type": "code",
      "metadata": {
        "id": "KaKsjlvxsACu",
        "colab_type": "code",
        "colab": {}
      },
      "source": [
        "a = np.array([1,2,3,4,5]) \n",
        "np.save('outfile',a)"
      ],
      "execution_count": 2,
      "outputs": []
    },
    {
      "cell_type": "code",
      "metadata": {
        "id": "gMYIknK-sBDC",
        "colab_type": "code",
        "colab": {
          "base_uri": "https://localhost:8080/",
          "height": 34
        },
        "outputId": "7dae1e7c-1086-40d4-8f11-6ff61fd51199"
      },
      "source": [
        "b = np.load('outfile.npy') \n",
        "print(b)"
      ],
      "execution_count": 3,
      "outputs": [
        {
          "output_type": "stream",
          "text": [
            "[1 2 3 4 5]\n"
          ],
          "name": "stdout"
        }
      ]
    },
    {
      "cell_type": "code",
      "metadata": {
        "id": "KYwhp_XksGZs",
        "colab_type": "code",
        "colab": {
          "base_uri": "https://localhost:8080/",
          "height": 50
        },
        "outputId": "7697b110-b4a0-4d03-faaf-0a9110e647f4"
      },
      "source": [
        "a = np.array([22,87,5,43,56,73,55,54,11,20,51,5,79,31,27]) \n",
        "np.histogram(a,bins = [0,20,40,60,80,100]) \n",
        "hist,bins = np.histogram(a,bins = [0,20,40,60,80,100]) \n",
        "print (hist) \n",
        "print (bins)"
      ],
      "execution_count": 5,
      "outputs": [
        {
          "output_type": "stream",
          "text": [
            "[3 4 5 2 1]\n",
            "[  0  20  40  60  80 100]\n"
          ],
          "name": "stdout"
        }
      ]
    },
    {
      "cell_type": "code",
      "metadata": {
        "id": "0wVxuZqfsaYJ",
        "colab_type": "code",
        "colab": {}
      },
      "source": [
        ""
      ],
      "execution_count": null,
      "outputs": []
    }
  ]
}