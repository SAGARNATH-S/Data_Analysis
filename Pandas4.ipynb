{
  "nbformat": 4,
  "nbformat_minor": 0,
  "metadata": {
    "colab": {
      "name": "Pandas4.ipynb",
      "provenance": [],
      "authorship_tag": "ABX9TyNJoRQUYoWSdATieFzgYYgo",
      "include_colab_link": true
    },
    "kernelspec": {
      "name": "python3",
      "display_name": "Python 3"
    }
  },
  "cells": [
    {
      "cell_type": "markdown",
      "metadata": {
        "id": "view-in-github",
        "colab_type": "text"
      },
      "source": [
        "<a href=\"https://colab.research.google.com/github/SAGARNATH-S/Data_Analysis/blob/master/Pandas4.ipynb\" target=\"_parent\"><img src=\"https://colab.research.google.com/assets/colab-badge.svg\" alt=\"Open In Colab\"/></a>"
      ]
    },
    {
      "cell_type": "code",
      "metadata": {
        "id": "vSEnya6aJ7RP"
      },
      "source": [
        "import numpy as np\n",
        "import pandas as pd"
      ],
      "execution_count": 3,
      "outputs": []
    },
    {
      "cell_type": "code",
      "metadata": {
        "id": "CU9PUdkhKDhv"
      },
      "source": [
        "d = {'Name':pd.Series(['Tom','James','Ricky','Vin','Steve','Smith','Jack',\n",
        "   'Lee','David','Gasper','Betina','Andres']),\n",
        "   'Age':pd.Series([25,26,25,23,30,29,23,34,40,30,51,46]),\n",
        "   'Rating':pd.Series([4.23,3.24,3.98,2.56,3.20,4.6,3.8,3.78,2.98,4.80,4.10,3.65])\n",
        "}\n",
        "\n",
        "df = pd.DataFrame(d)\n",
        "print (df)"
      ],
      "execution_count": null,
      "outputs": []
    },
    {
      "cell_type": "code",
      "metadata": {
        "id": "N0h9aIv4KP1h",
        "outputId": "d76389c7-d373-4a72-a301-2aa785e7b4d5",
        "colab": {
          "base_uri": "https://localhost:8080/",
          "height": 84
        }
      },
      "source": [
        "print (df.sum())"
      ],
      "execution_count": 6,
      "outputs": [
        {
          "output_type": "stream",
          "text": [
            "Name      TomJamesRickyVinSteveSmithJackLeeDavidGasperBe...\n",
            "Age                                                     382\n",
            "Rating                                                44.92\n",
            "dtype: object\n"
          ],
          "name": "stdout"
        }
      ]
    },
    {
      "cell_type": "code",
      "metadata": {
        "id": "kiRQDkBYKUkb",
        "outputId": "63c3dec6-608a-4b92-d139-15c3edd168d4",
        "colab": {
          "base_uri": "https://localhost:8080/",
          "height": 168
        }
      },
      "source": [
        "print (df.describe())"
      ],
      "execution_count": 8,
      "outputs": [
        {
          "output_type": "stream",
          "text": [
            "             Age     Rating\n",
            "count  12.000000  12.000000\n",
            "mean   31.833333   3.743333\n",
            "std     9.232682   0.661628\n",
            "min    23.000000   2.560000\n",
            "25%    25.000000   3.230000\n",
            "50%    29.500000   3.790000\n",
            "75%    35.500000   4.132500\n",
            "max    51.000000   4.800000\n"
          ],
          "name": "stdout"
        }
      ]
    }
  ]
}