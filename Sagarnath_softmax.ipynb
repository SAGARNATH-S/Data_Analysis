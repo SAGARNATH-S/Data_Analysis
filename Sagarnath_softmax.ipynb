{
  "nbformat": 4,
  "nbformat_minor": 0,
  "metadata": {
    "colab": {
      "name": "Sagarnath softmax.ipynb",
      "provenance": [],
      "collapsed_sections": [],
      "include_colab_link": true
    },
    "kernelspec": {
      "name": "python3",
      "display_name": "Python 3"
    }
  },
  "cells": [
    {
      "cell_type": "markdown",
      "metadata": {
        "id": "view-in-github",
        "colab_type": "text"
      },
      "source": [
        "<a href=\"https://colab.research.google.com/github/SAGARNATH-S/Data_Analysis/blob/master/Sagarnath_softmax.ipynb\" target=\"_parent\"><img src=\"https://colab.research.google.com/assets/colab-badge.svg\" alt=\"Open In Colab\"/></a>"
      ]
    },
    {
      "cell_type": "code",
      "metadata": {
        "id": "9jGjeiSnfuQ-"
      },
      "source": [
        "import numpy as np\n",
        "np.set_printoptions(suppress=True)"
      ],
      "execution_count": null,
      "outputs": []
    },
    {
      "cell_type": "code",
      "metadata": {
        "id": "_V-iGTzYgTTb"
      },
      "source": [
        "x_input = np.array([-2,4,13,25])"
      ],
      "execution_count": null,
      "outputs": []
    },
    {
      "cell_type": "code",
      "metadata": {
        "id": "ecINaNRCgvzh",
        "colab": {
          "base_uri": "https://localhost:8080/"
        },
        "outputId": "b3b5b30b-0701-4136-80c8-e948717e41d3"
      },
      "source": [
        "Numerator = np.exp(x_input)\n",
        "print(Numerator)"
      ],
      "execution_count": null,
      "outputs": [
        {
          "output_type": "stream",
          "text": [
            "[1.35335283e-01 5.45981500e+01 4.42413392e+05 7.20048993e+10]\n"
          ],
          "name": "stdout"
        }
      ]
    },
    {
      "cell_type": "code",
      "metadata": {
        "id": "hre4tCNBhAIS",
        "colab": {
          "base_uri": "https://localhost:8080/"
        },
        "outputId": "360efe89-cc9f-4274-f77f-89e79a3de561"
      },
      "source": [
        "Denominator = np.sum(np.exp(x_input))\n",
        "print(Denominator)"
      ],
      "execution_count": null,
      "outputs": [
        {
          "output_type": "stream",
          "text": [
            "72005341805.51137\n"
          ],
          "name": "stdout"
        }
      ]
    },
    {
      "cell_type": "code",
      "metadata": {
        "id": "iRz8EaOzhWJ5",
        "colab": {
          "base_uri": "https://localhost:8080/"
        },
        "outputId": "6ef99057-a49b-4555-d0c1-5e91aef05b8e"
      },
      "source": [
        "softmax_output = Numerator/Denominator\n",
        "print(softmax_output)"
      ],
      "execution_count": null,
      "outputs": [
        {
          "output_type": "stream",
          "text": [
            "[0.         0.         0.00000614 0.99999386]\n"
          ],
          "name": "stdout"
        }
      ]
    },
    {
      "cell_type": "code",
      "metadata": {
        "id": "xwPPaPj6hvbr",
        "colab": {
          "base_uri": "https://localhost:8080/"
        },
        "outputId": "c4268ad6-249f-403e-fc49-f86f2e93f7f6"
      },
      "source": [
        "np.argmax(softmax_output)"
      ],
      "execution_count": null,
      "outputs": [
        {
          "output_type": "execute_result",
          "data": {
            "text/plain": [
              "3"
            ]
          },
          "metadata": {
            "tags": []
          },
          "execution_count": 7
        }
      ]
    },
    {
      "cell_type": "code",
      "metadata": {
        "id": "tmku-P5Mq1wv"
      },
      "source": [
        ""
      ],
      "execution_count": null,
      "outputs": []
    },
    {
      "cell_type": "code",
      "metadata": {
        "id": "jv-PJ_jQo4RN"
      },
      "source": [
        ""
      ],
      "execution_count": null,
      "outputs": []
    }
  ]
}